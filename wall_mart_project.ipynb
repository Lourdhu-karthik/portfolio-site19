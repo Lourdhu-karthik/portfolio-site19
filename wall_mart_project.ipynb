{
  "cells": [
    {
      "cell_type": "markdown",
      "metadata": {
        "id": "view-in-github",
        "colab_type": "text"
      },
      "source": [
        "<a href=\"https://colab.research.google.com/github/Lourdhu-karthik/portfolio-site19/blob/main/wall_mart_project.ipynb\" target=\"_parent\"><img src=\"https://colab.research.google.com/assets/colab-badge.svg\" alt=\"Open In Colab\"/></a>"
      ]
    },
    {
      "cell_type": "markdown",
      "id": "c0872182",
      "metadata": {
        "id": "c0872182"
      },
      "source": [
        "# retail analasys with wallmart data\n",
        "Holiday Events\n",
        "\n",
        "Super Bowl: 12-Feb-10, 11-Feb-11, 10-Feb-12, 8-Feb-13\n",
        "Labour Day: 10-Sep-10, 9-Sep-11, 7-Sep-12, 6-Sep-13\n",
        "Thanksgiving: 26-Nov-10, 25-Nov-11, 23-Nov-12, 29-Nov-13\n",
        "Christmas: 31-Dec-10, 30-Dec-11, 28-Dec-12, 27-Dec-13\n",
        "\n",
        "Analysis Tasks:\n",
        "\n",
        "Basic Statistics tasks:\n",
        "\n",
        "Which store has maximum sales\n",
        "\n",
        "Which store has maximum standard deviation i.e., the sales vary a lot. Also, find out the coefficient of mean to standard deviation\n",
        "\n",
        "Which store/s has good quarterly growth rate in Q3’2012\n",
        "\n",
        "Some holidays have a negative impact on sales. Find out holidays which have higher sales than the mean sales in non-holiday season for all stores together\n",
        "\n",
        "Provide a monthly and semester view of sales in units and give insights\n",
        "\n",
        "Statistical Model\n",
        "\n",
        "For Store 1 – Build  prediction models to forecast demand\n",
        "\n",
        "Linear Regression – Utilize variables like date and restructure dates as 1 for 5 Feb 2010 (starting from the earliest date in order). Hypothesize if CPI, unemployment, and fuel price have any impact on sales.\n",
        "\n",
        "Change dates into days by creating new variable.\n",
        "\n",
        "Select the model which gives best accuracy"
      ]
    },
    {
      "cell_type": "code",
      "execution_count": null,
      "id": "957e2fc6",
      "metadata": {
        "id": "957e2fc6"
      },
      "outputs": [],
      "source": [
        "#first lets import all the necessary libraries\n",
        "import numpy as np\n",
        "import pandas as pd\n",
        "import seaborn as sns\n",
        "import matplotlib.pyplot as plt"
      ]
    },
    {
      "cell_type": "code",
      "execution_count": null,
      "id": "b37a818a",
      "metadata": {
        "scrolled": true,
        "id": "b37a818a",
        "outputId": "c608f93a-1c4d-4a56-eff1-355c7646423f"
      },
      "outputs": [
        {
          "data": {
            "text/html": [
              "<div>\n",
              "<style scoped>\n",
              "    .dataframe tbody tr th:only-of-type {\n",
              "        vertical-align: middle;\n",
              "    }\n",
              "\n",
              "    .dataframe tbody tr th {\n",
              "        vertical-align: top;\n",
              "    }\n",
              "\n",
              "    .dataframe thead th {\n",
              "        text-align: right;\n",
              "    }\n",
              "</style>\n",
              "<table border=\"1\" class=\"dataframe\">\n",
              "  <thead>\n",
              "    <tr style=\"text-align: right;\">\n",
              "      <th></th>\n",
              "      <th>Store</th>\n",
              "      <th>Date</th>\n",
              "      <th>Weekly_Sales</th>\n",
              "      <th>Holiday_Flag</th>\n",
              "      <th>Temperature</th>\n",
              "      <th>Fuel_Price</th>\n",
              "      <th>CPI</th>\n",
              "      <th>Unemployment</th>\n",
              "    </tr>\n",
              "  </thead>\n",
              "  <tbody>\n",
              "    <tr>\n",
              "      <th>0</th>\n",
              "      <td>1</td>\n",
              "      <td>05-02-2010</td>\n",
              "      <td>1643690.90</td>\n",
              "      <td>0</td>\n",
              "      <td>42.31</td>\n",
              "      <td>2.572</td>\n",
              "      <td>211.096358</td>\n",
              "      <td>8.106</td>\n",
              "    </tr>\n",
              "    <tr>\n",
              "      <th>1</th>\n",
              "      <td>1</td>\n",
              "      <td>12-02-2010</td>\n",
              "      <td>1641957.44</td>\n",
              "      <td>1</td>\n",
              "      <td>38.51</td>\n",
              "      <td>2.548</td>\n",
              "      <td>211.242170</td>\n",
              "      <td>8.106</td>\n",
              "    </tr>\n",
              "    <tr>\n",
              "      <th>2</th>\n",
              "      <td>1</td>\n",
              "      <td>19-02-2010</td>\n",
              "      <td>1611968.17</td>\n",
              "      <td>0</td>\n",
              "      <td>39.93</td>\n",
              "      <td>2.514</td>\n",
              "      <td>211.289143</td>\n",
              "      <td>8.106</td>\n",
              "    </tr>\n",
              "    <tr>\n",
              "      <th>3</th>\n",
              "      <td>1</td>\n",
              "      <td>26-02-2010</td>\n",
              "      <td>1409727.59</td>\n",
              "      <td>0</td>\n",
              "      <td>46.63</td>\n",
              "      <td>2.561</td>\n",
              "      <td>211.319643</td>\n",
              "      <td>8.106</td>\n",
              "    </tr>\n",
              "    <tr>\n",
              "      <th>4</th>\n",
              "      <td>1</td>\n",
              "      <td>05-03-2010</td>\n",
              "      <td>1554806.68</td>\n",
              "      <td>0</td>\n",
              "      <td>46.50</td>\n",
              "      <td>2.625</td>\n",
              "      <td>211.350143</td>\n",
              "      <td>8.106</td>\n",
              "    </tr>\n",
              "  </tbody>\n",
              "</table>\n",
              "</div>"
            ],
            "text/plain": [
              "   Store        Date  Weekly_Sales  Holiday_Flag  Temperature  Fuel_Price  \\\n",
              "0      1  05-02-2010    1643690.90             0        42.31       2.572   \n",
              "1      1  12-02-2010    1641957.44             1        38.51       2.548   \n",
              "2      1  19-02-2010    1611968.17             0        39.93       2.514   \n",
              "3      1  26-02-2010    1409727.59             0        46.63       2.561   \n",
              "4      1  05-03-2010    1554806.68             0        46.50       2.625   \n",
              "\n",
              "          CPI  Unemployment  \n",
              "0  211.096358         8.106  \n",
              "1  211.242170         8.106  \n",
              "2  211.289143         8.106  \n",
              "3  211.319643         8.106  \n",
              "4  211.350143         8.106  "
            ]
          },
          "execution_count": 66,
          "metadata": {},
          "output_type": "execute_result"
        }
      ],
      "source": [
        "#load the dataset\n",
        "stores_data=pd.read_csv('Walmart_Store_sales.csv')\n",
        "stores_data.head()"
      ]
    },
    {
      "cell_type": "code",
      "execution_count": null,
      "id": "7deb18df",
      "metadata": {
        "id": "7deb18df",
        "outputId": "f4de3217-818b-485d-b532-393bcc32c569"
      },
      "outputs": [
        {
          "data": {
            "text/plain": [
              "Store           0\n",
              "Date            0\n",
              "Weekly_Sales    0\n",
              "Holiday_Flag    0\n",
              "Temperature     0\n",
              "Fuel_Price      0\n",
              "CPI             0\n",
              "Unemployment    0\n",
              "dtype: int64"
            ]
          },
          "execution_count": 67,
          "metadata": {},
          "output_type": "execute_result"
        }
      ],
      "source": [
        "#lets check is there any null values in the data\n",
        "stores_data.isna().sum()"
      ]
    },
    {
      "cell_type": "code",
      "execution_count": null,
      "id": "2d60e7bb",
      "metadata": {
        "id": "2d60e7bb",
        "outputId": "2617f2db-9b81-434a-e242-7aa42fd2b442"
      },
      "outputs": [
        {
          "data": {
            "text/plain": [
              "Store\n",
              "1    2.224028e+08\n",
              "2    2.753824e+08\n",
              "3    5.758674e+07\n",
              "4    2.995440e+08\n",
              "5    4.547569e+07\n",
              "Name: Weekly_Sales, dtype: float64"
            ]
          },
          "execution_count": 68,
          "metadata": {},
          "output_type": "execute_result"
        }
      ],
      "source": [
        "# to predict this(Which store has maximum sales), we need to group the weekly_sales by each Store and add all weeks data to each store\n",
        "combined_store_sales=stores_data.groupby('Store')['Weekly_Sales'].sum() #as group by only generate series(tuples of sales to each store)\n",
        "combined_store_sales.head()                                      #we need to sum tuple of sales to each store"
      ]
    },
    {
      "cell_type": "code",
      "execution_count": null,
      "id": "5692d430",
      "metadata": {
        "id": "5692d430",
        "outputId": "04e4e075-bfc6-46ce-cb22-74855bca14cb"
      },
      "outputs": [
        {
          "name": "stdout",
          "output_type": "stream",
          "text": [
            "store number: 20\n",
            "highest sales: 301397792.46\n"
          ]
        }
      ],
      "source": [
        "print('store number:',combined_store_sales.idxmax()) #id max shows store_id or number\n",
        "print('highest sales:',combined_store_sales.max())# max shows max sales numbers"
      ]
    },
    {
      "cell_type": "code",
      "execution_count": null,
      "id": "e42e8e62",
      "metadata": {
        "id": "e42e8e62",
        "outputId": "ddd5ca46-0d41-4a61-fc0e-72b0ff4eff93"
      },
      "outputs": [
        {
          "name": "stdout",
          "output_type": "stream",
          "text": [
            "max mean store is: 20\n",
            "max mean is: 2107676.8703496503\n",
            "max standard deviation store is: 14\n",
            "max standard deviation is: 317569.9494755081\n"
          ]
        }
      ],
      "source": [
        "#which store has max standard deviation, variance and coefficient of mean/std\n",
        "stats_store=stores_data.groupby('Store')['Weekly_Sales'].agg(['mean','std','var'])\n",
        "print('max mean store is:',stats_store['mean'].idxmax())\n",
        "print('max mean is:',stats_store['mean'].max())\n",
        "print('max standard deviation store is:',stats_store['std'].idxmax())\n",
        "print('max standard deviation is:',stats_store['std'].max())"
      ]
    },
    {
      "cell_type": "code",
      "execution_count": null,
      "id": "c9c9a8f4",
      "metadata": {
        "id": "c9c9a8f4",
        "outputId": "dad1e444-a5a6-4129-b345-27223f493f33"
      },
      "outputs": [
        {
          "name": "stdout",
          "output_type": "stream",
          "text": [
            "whole stores variance: 6110166888006653.0\n",
            "store with high variance: 14\n",
            "high variance stores variance is: 100850672809.87677\n"
          ]
        }
      ],
      "source": [
        "store_var=stores_data.groupby('Store')['Weekly_Sales'].sum()\n",
        "print(\"whole stores variance:\",store_var.var())\n",
        "store_var_bystore=stores_data.groupby('Store')['Weekly_Sales'].var()\n",
        "print('store with high variance:',store_var_bystore.idxmax())\n",
        "print('high variance stores variance is:',store_var_bystore.max())"
      ]
    },
    {
      "cell_type": "code",
      "execution_count": null,
      "id": "37453504",
      "metadata": {
        "id": "37453504",
        "outputId": "a0b4f822-1540-422e-afe2-ee19172a006a"
      },
      "outputs": [
        {
          "name": "stdout",
          "output_type": "stream",
          "text": [
            "store with highest coefficient is: 37\n",
            "highest coefficient is: 23.76193264602112\n"
          ]
        }
      ],
      "source": [
        "#coefficient of mean to standard deviations\n",
        "stores_coeff = stats_store['mean']/stats_store['std']\n",
        "print('store with highest coefficient is:',stores_coeff.idxmax())\n",
        "print('highest coefficient is:',stores_coeff.max())"
      ]
    },
    {
      "cell_type": "code",
      "execution_count": null,
      "id": "edd31180",
      "metadata": {
        "id": "edd31180"
      },
      "outputs": [],
      "source": [
        "weeks=stores_data.groupby('Date')"
      ]
    },
    {
      "cell_type": "code",
      "execution_count": null,
      "id": "1face8d6",
      "metadata": {
        "id": "1face8d6",
        "outputId": "06545534-6a32-4ec4-9ba2-ea8c5366cfab"
      },
      "outputs": [
        {
          "data": {
            "text/plain": [
              "Date\n",
              "01-04-2011    45\n",
              "01-06-2012    45\n",
              "01-07-2011    45\n",
              "01-10-2010    45\n",
              "02-03-2012    45\n",
              "              ..\n",
              "30-07-2010    45\n",
              "30-09-2011    45\n",
              "30-12-2011    45\n",
              "31-08-2012    45\n",
              "31-12-2010    45\n",
              "Name: Date, Length: 143, dtype: int64"
            ]
          },
          "execution_count": 74,
          "metadata": {},
          "output_type": "execute_result"
        }
      ],
      "source": [
        "weeks['Date'].count()"
      ]
    },
    {
      "cell_type": "code",
      "execution_count": null,
      "id": "0b120bc6",
      "metadata": {
        "id": "0b120bc6",
        "outputId": "5b331435-dd6d-4b9c-b32a-8c8c2ed0f07c"
      },
      "outputs": [
        {
          "data": {
            "text/plain": [
              "Store             int64\n",
              "Date             object\n",
              "Weekly_Sales    float64\n",
              "Holiday_Flag      int64\n",
              "Temperature     float64\n",
              "Fuel_Price      float64\n",
              "CPI             float64\n",
              "Unemployment    float64\n",
              "dtype: object"
            ]
          },
          "execution_count": 75,
          "metadata": {},
          "output_type": "execute_result"
        }
      ],
      "source": [
        "stores_data.dtypes"
      ]
    },
    {
      "cell_type": "code",
      "execution_count": null,
      "id": "ca9d2c7a",
      "metadata": {
        "id": "ca9d2c7a",
        "outputId": "9a56486e-a9b1-4e6e-d863-f9f32fa50825"
      },
      "outputs": [
        {
          "data": {
            "text/plain": [
              "1041256.3802088564"
            ]
          },
          "execution_count": 76,
          "metadata": {},
          "output_type": "execute_result"
        }
      ],
      "source": [
        "#Find out holidays which have higher sales than the mean sales in non-holiday season for all stores together\n",
        "#step:1 finding non holiday sales mean\n",
        "non_holidays=stores_data[stores_data['Holiday_Flag']==0]\n",
        "NonHoliday_WS_mean=non_holidays['Weekly_Sales'].mean()\n",
        "NonHoliday_WS_mean"
      ]
    },
    {
      "cell_type": "code",
      "execution_count": null,
      "id": "582fbbf2",
      "metadata": {
        "id": "582fbbf2",
        "outputId": "2193586d-a106-415d-cf81-fb22c750d20b"
      },
      "outputs": [
        {
          "name": "stdout",
          "output_type": "stream",
          "text": [
            "holiday sales that are grater than non holiday mean sales are:\n",
            "\n",
            "       Store        Date  Weekly_Sales  Holiday_Flag\n",
            "1         1  12-02-2010    1641957.44             1\n",
            "31        1  10-09-2010    1507460.69             1\n",
            "42        1  26-11-2010    1955624.11             1\n",
            "47        1  31-12-2010    1367320.01             1\n",
            "53        1  11-02-2011    1649614.93             1\n",
            "...     ...         ...           ...           ...\n",
            "5819     41  30-12-2011    1264014.16             1\n",
            "5825     41  10-02-2012    1238844.56             1\n",
            "5855     41  07-09-2012    1392143.82             1\n",
            "6334     45  26-11-2010    1182500.16             1\n",
            "6386     45  25-11-2011    1170672.94             1\n",
            "\n",
            "[220 rows x 4 columns]\n"
          ]
        }
      ],
      "source": [
        "#step 2 finding holidays and comparing them with non holiday sales mean\n",
        "holiday_sales=stores_data[stores_data['Holiday_Flag']==1]\n",
        "high_holiday_sales=holiday_sales[holiday_sales['Weekly_Sales']>NonHoliday_WS_mean]\n",
        "print('holiday sales that are grater than non holiday mean sales are:\\n\\n',high_holiday_sales[['Store','Date','Weekly_Sales','Holiday_Flag']])"
      ]
    },
    {
      "cell_type": "code",
      "execution_count": null,
      "id": "b6784075",
      "metadata": {
        "id": "b6784075",
        "outputId": "8d1af248-51dc-484d-b9ac-d95354681be9"
      },
      "outputs": [
        {
          "name": "stdout",
          "output_type": "stream",
          "text": [
            "<class 'pandas.core.frame.DataFrame'>\n",
            "RangeIndex: 6435 entries, 0 to 6434\n",
            "Data columns (total 8 columns):\n",
            " #   Column        Non-Null Count  Dtype         \n",
            "---  ------        --------------  -----         \n",
            " 0   Store         6435 non-null   int64         \n",
            " 1   Date          6435 non-null   datetime64[ns]\n",
            " 2   Weekly_Sales  6435 non-null   float64       \n",
            " 3   Holiday_Flag  6435 non-null   int64         \n",
            " 4   Temperature   6435 non-null   float64       \n",
            " 5   Fuel_Price    6435 non-null   float64       \n",
            " 6   CPI           6435 non-null   float64       \n",
            " 7   Unemployment  6435 non-null   float64       \n",
            "dtypes: datetime64[ns](1), float64(5), int64(2)\n",
            "memory usage: 402.3 KB\n"
          ]
        }
      ],
      "source": [
        "#for applying datetime related functions for our requirements lets convert the data in to date time format\n",
        "stores_data['Date']=pd.to_datetime(stores_data['Date'])\n",
        "stores_data.info()"
      ]
    },
    {
      "cell_type": "code",
      "execution_count": null,
      "id": "4f07f7dd",
      "metadata": {
        "id": "4f07f7dd"
      },
      "outputs": [],
      "source": [
        "#function for quarterly growth rate for q3 in 2012\n",
        "def calc_growth(stores_data):\n",
        "    q3_2012 = stores_data[(stores_data['Date'].dt.year == 2012) & (stores_data['Date'].dt.quarter == 3)]['Weekly_Sales'].sum()\n",
        "    q2_2012 = stores_data[(stores_data['Date'].dt.year == 2012) & (stores_data['Date'].dt.quarter == 2)]['Weekly_Sales'].sum()\n",
        "    return (q3_2012 - q2_2012) / q2_2012 * 100"
      ]
    },
    {
      "cell_type": "code",
      "execution_count": null,
      "id": "a3ab7648",
      "metadata": {
        "id": "a3ab7648",
        "outputId": "03477f6e-fda6-44ba-d5ad-ee0d57d7315e"
      },
      "outputs": [
        {
          "name": "stdout",
          "output_type": "stream",
          "text": [
            "Store\n",
            "1    -11.426342\n",
            "2    -10.716535\n",
            "3    -10.717379\n",
            "4     -9.625310\n",
            "5    -12.347142\n",
            "6    -11.518899\n",
            "7     -3.824738\n",
            "8     -8.885460\n",
            "9    -12.152357\n",
            "10   -10.293384\n",
            "11    -9.982231\n",
            "12   -10.731580\n",
            "13    -9.264673\n",
            "14   -17.551086\n",
            "15   -12.183321\n",
            "16    -2.789294\n",
            "17   -10.719910\n",
            "18    -9.593152\n",
            "19    -9.123188\n",
            "20   -10.469051\n",
            "21    -8.917697\n",
            "22   -11.332535\n",
            "23    -6.452678\n",
            "24    -9.242314\n",
            "25   -10.143607\n",
            "26    -6.057624\n",
            "27   -10.633092\n",
            "28   -11.364302\n",
            "29   -12.888364\n",
            "30   -10.444624\n",
            "31    -9.835123\n",
            "32    -8.258527\n",
            "33    -9.540218\n",
            "34   -10.746352\n",
            "35    -4.663086\n",
            "36   -12.523420\n",
            "37    -8.881539\n",
            "38   -10.520358\n",
            "39    -6.396875\n",
            "40    -9.354939\n",
            "41    -6.756521\n",
            "42   -10.217957\n",
            "43   -10.474373\n",
            "44    -6.988212\n",
            "45   -13.889207\n",
            "dtype: float64\n"
          ]
        }
      ],
      "source": [
        "quarterly_growth = stores_data.groupby('Store').apply(calc_growth) #we can see that q3 growth rate is decreased by 9.91% which is so closer to 10%\n",
        "print(quarterly_growth)"
      ]
    },
    {
      "cell_type": "code",
      "execution_count": null,
      "id": "097ab047",
      "metadata": {
        "id": "097ab047",
        "outputId": "11bd240c-a527-4a42-fba7-50f501acad87"
      },
      "outputs": [
        {
          "name": "stdout",
          "output_type": "stream",
          "text": [
            "there is no positive growth in stores in Quarter 3 compared to Previous Quarter\n"
          ]
        }
      ],
      "source": [
        "#it returned empty series 1d array coz there is no store that generates profits in sales compared to last quarter (q2)\n",
        "#that means there is no store that generates profits in this quarter(q3) compared to previous quarter(q2)\n",
        "\n",
        "\n",
        "\n",
        "good_growth_stores = quarterly_growth[quarterly_growth > 1]\n",
        "s = pd.Series([],dtype='float64')\n",
        "if good_growth_stores.equals(s):\n",
        "    print( 'there is no positive growth in stores in Quarter 3 compared to Previous Quarter')"
      ]
    },
    {
      "cell_type": "code",
      "execution_count": null,
      "id": "317370c6",
      "metadata": {
        "id": "317370c6"
      },
      "outputs": [],
      "source": [
        "# Monthly and Semester View of Sales\n",
        "monthly_sales =stores_data.resample('M', on='Date')['Weekly_Sales'].sum()  #for monthlu sales\n"
      ]
    },
    {
      "cell_type": "code",
      "execution_count": null,
      "id": "95bbe89d",
      "metadata": {
        "id": "95bbe89d"
      },
      "outputs": [],
      "source": [
        "def resample_by_semester_alt(stores_data):\n",
        "\n",
        "  semester_data = stores_data.groupby([stores_data['Date'].dt.year, lambda x: (x // 6) + 1])['Weekly_Sales'].sum()\n",
        "  semester_data.name =  'Weekly_Sales' # Set a name for the result Series\n",
        "  return semester_data.to_frame().reset_index()\n",
        "\n",
        "semester_sales = resample_by_semester_alt(stores_data.copy())"
      ]
    },
    {
      "cell_type": "code",
      "execution_count": null,
      "id": "4adcb870",
      "metadata": {
        "id": "4adcb870",
        "outputId": "fbc080e2-620f-4419-820a-e39e3b92ebff"
      },
      "outputs": [
        {
          "data": {
            "image/png": "[encoded data removed]",
            "text/plain": [
              "<Figure size 864x432 with 1 Axes>"
            ]
          },
          "metadata": {
            "needs_background": "light"
          },
          "output_type": "display_data"
        },
        {
          "data": {
            "image/png": "[encoded data removed]",
            "text/plain": [
              "<Figure size 864x432 with 1 Axes>"
            ]
          },
          "metadata": {
            "needs_background": "light"
          },
          "output_type": "display_data"
        },
        {
          "data": {
            "image/png": "[encoded data removed]",
            "text/plain": [
              "<Figure size 864x432 with 1 Axes>"
            ]
          },
          "metadata": {
            "needs_background": "light"
          },
          "output_type": "display_data"
        }
      ],
      "source": [
        "#month wise sales mapping for Each year\n",
        "\n",
        "monthly_sales_by_year = monthly_sales.groupby(monthly_sales.index.year)\n",
        "\n",
        "# Function to plot monthly sales for a single year\n",
        "def plot_monthly_sales(year, data):\n",
        "  plt.figure(figsize=(12, 6))\n",
        "  plt.plot(data.index.month_name(), data.values)\n",
        "  plt.xlabel('Month')\n",
        "  plt.ylabel('Sales (Units)')\n",
        "  plt.title(f'Monthly Sales - Year {year}')\n",
        "  plt.xticks(rotation=45)\n",
        "  plt.grid(True)\n",
        "  plt.show()\n",
        "\n",
        "# Iterate through each year and plot monthly sales\n",
        "for year, data in monthly_sales_by_year:\n",
        "  plot_monthly_sales(year, data)"
      ]
    },
    {
      "cell_type": "code",
      "execution_count": null,
      "id": "3f0c5bf3",
      "metadata": {
        "id": "3f0c5bf3",
        "outputId": "f1e534b5-d9ab-4f2c-a1fd-f47b7ee8512e"
      },
      "outputs": [
        {
          "data": {
            "image/png": "[encoded data removed]",
            "text/plain": [
              "<Figure size 864x432 with 1 Axes>"
            ]
          },
          "metadata": {
            "needs_background": "light"
          },
          "output_type": "display_data"
        }
      ],
      "source": [
        "# sem wise sales\n",
        "plt.figure(figsize=(12, 6))\n",
        "plt.plot(semester_sales.index, semester_sales.values)\n",
        "plt.xlabel('Semester')\n",
        "plt.ylabel('Sales (Units)')\n",
        "plt.title('Semester Sales')\n",
        "plt.xticks(rotation=0)  # No rotation for semester labels\n",
        "plt.grid(True)\n",
        "plt.show()"
      ]
    },
    {
      "cell_type": "markdown",
      "id": "dfedf557",
      "metadata": {
        "id": "dfedf557"
      },
      "source": [
        "we plotted diffrent graphs for getting INSIGHTS or the performance of stores month and semister wise\n",
        "   ------------- END OF BASIC STATISTIC TASKS -------------"
      ]
    },
    {
      "cell_type": "markdown",
      "id": "ae97e116",
      "metadata": {
        "id": "ae97e116"
      },
      "source": [
        "# Task 2: statistical predicting models"
      ]
    },
    {
      "cell_type": "code",
      "execution_count": null,
      "id": "344b813f",
      "metadata": {
        "id": "344b813f",
        "outputId": "cb4d7415-c880-43be-e54b-bbe6ba698ce6"
      },
      "outputs": [
        {
          "name": "stdout",
          "output_type": "stream",
          "text": [
            "   Store        Date  Weekly_Sales  Holiday_Flag  Temperature  Fuel_Price  \\\n",
            "0      1  05-02-2010    1643690.90             0        42.31       2.572   \n",
            "1      1  12-02-2010    1641957.44             1        38.51       2.548   \n",
            "2      1  19-02-2010    1611968.17             0        39.93       2.514   \n",
            "3      1  26-02-2010    1409727.59             0        46.63       2.561   \n",
            "4      1  05-03-2010    1554806.68             0        46.50       2.625   \n",
            "\n",
            "          CPI  Unemployment  \n",
            "0  211.096358         8.106  \n",
            "1  211.242170         8.106  \n",
            "2  211.289143         8.106  \n",
            "3  211.319643         8.106  \n",
            "4  211.350143         8.106  \n",
            "<class 'pandas.core.frame.DataFrame'>\n",
            "RangeIndex: 6435 entries, 0 to 6434\n",
            "Data columns (total 8 columns):\n",
            " #   Column        Non-Null Count  Dtype  \n",
            "---  ------        --------------  -----  \n",
            " 0   Store         6435 non-null   int64  \n",
            " 1   Date          6435 non-null   object \n",
            " 2   Weekly_Sales  6435 non-null   float64\n",
            " 3   Holiday_Flag  6435 non-null   int64  \n",
            " 4   Temperature   6435 non-null   float64\n",
            " 5   Fuel_Price    6435 non-null   float64\n",
            " 6   CPI           6435 non-null   float64\n",
            " 7   Unemployment  6435 non-null   float64\n",
            "dtypes: float64(5), int64(2), object(1)\n",
            "memory usage: 402.3+ KB\n"
          ]
        }
      ],
      "source": [
        "#statistical models\n",
        "\n",
        "stat_m_data=pd.read_csv(\"Walmart_Store_sales.csv\")\n",
        "print(stat_m_data.head())\n",
        "stat_m_data.info()"
      ]
    },
    {
      "cell_type": "code",
      "execution_count": null,
      "id": "d3b91428",
      "metadata": {
        "id": "d3b91428",
        "outputId": "2c67ecf6-6967-4565-e17a-1ef2b29cb927"
      },
      "outputs": [
        {
          "data": {
            "text/html": [
              "<div>\n",
              "<style scoped>\n",
              "    .dataframe tbody tr th:only-of-type {\n",
              "        vertical-align: middle;\n",
              "    }\n",
              "\n",
              "    .dataframe tbody tr th {\n",
              "        vertical-align: top;\n",
              "    }\n",
              "\n",
              "    .dataframe thead th {\n",
              "        text-align: right;\n",
              "    }\n",
              "</style>\n",
              "<table border=\"1\" class=\"dataframe\">\n",
              "  <thead>\n",
              "    <tr style=\"text-align: right;\">\n",
              "      <th></th>\n",
              "      <th>Store</th>\n",
              "      <th>Date</th>\n",
              "      <th>Weekly_Sales</th>\n",
              "      <th>Holiday_Flag</th>\n",
              "      <th>Temperature</th>\n",
              "      <th>Fuel_Price</th>\n",
              "      <th>CPI</th>\n",
              "      <th>Unemployment</th>\n",
              "    </tr>\n",
              "  </thead>\n",
              "  <tbody>\n",
              "    <tr>\n",
              "      <th>0</th>\n",
              "      <td>1</td>\n",
              "      <td>05-02-2010</td>\n",
              "      <td>1643690.90</td>\n",
              "      <td>0</td>\n",
              "      <td>42.31</td>\n",
              "      <td>2.572</td>\n",
              "      <td>211.096358</td>\n",
              "      <td>8.106</td>\n",
              "    </tr>\n",
              "    <tr>\n",
              "      <th>1</th>\n",
              "      <td>1</td>\n",
              "      <td>12-02-2010</td>\n",
              "      <td>1641957.44</td>\n",
              "      <td>1</td>\n",
              "      <td>38.51</td>\n",
              "      <td>2.548</td>\n",
              "      <td>211.242170</td>\n",
              "      <td>8.106</td>\n",
              "    </tr>\n",
              "    <tr>\n",
              "      <th>2</th>\n",
              "      <td>1</td>\n",
              "      <td>19-02-2010</td>\n",
              "      <td>1611968.17</td>\n",
              "      <td>0</td>\n",
              "      <td>39.93</td>\n",
              "      <td>2.514</td>\n",
              "      <td>211.289143</td>\n",
              "      <td>8.106</td>\n",
              "    </tr>\n",
              "    <tr>\n",
              "      <th>3</th>\n",
              "      <td>1</td>\n",
              "      <td>26-02-2010</td>\n",
              "      <td>1409727.59</td>\n",
              "      <td>0</td>\n",
              "      <td>46.63</td>\n",
              "      <td>2.561</td>\n",
              "      <td>211.319643</td>\n",
              "      <td>8.106</td>\n",
              "    </tr>\n",
              "    <tr>\n",
              "      <th>4</th>\n",
              "      <td>1</td>\n",
              "      <td>05-03-2010</td>\n",
              "      <td>1554806.68</td>\n",
              "      <td>0</td>\n",
              "      <td>46.50</td>\n",
              "      <td>2.625</td>\n",
              "      <td>211.350143</td>\n",
              "      <td>8.106</td>\n",
              "    </tr>\n",
              "  </tbody>\n",
              "</table>\n",
              "</div>"
            ],
            "text/plain": [
              "   Store        Date  Weekly_Sales  Holiday_Flag  Temperature  Fuel_Price  \\\n",
              "0      1  05-02-2010    1643690.90             0        42.31       2.572   \n",
              "1      1  12-02-2010    1641957.44             1        38.51       2.548   \n",
              "2      1  19-02-2010    1611968.17             0        39.93       2.514   \n",
              "3      1  26-02-2010    1409727.59             0        46.63       2.561   \n",
              "4      1  05-03-2010    1554806.68             0        46.50       2.625   \n",
              "\n",
              "          CPI  Unemployment  \n",
              "0  211.096358         8.106  \n",
              "1  211.242170         8.106  \n",
              "2  211.289143         8.106  \n",
              "3  211.319643         8.106  \n",
              "4  211.350143         8.106  "
            ]
          },
          "execution_count": 89,
          "metadata": {},
          "output_type": "execute_result"
        }
      ],
      "source": [
        "#to build prediction model for store 1, lets get store 1 data\n",
        "store_1=stat_m_data[stat_m_data[\"Store\"]==1]\n",
        "store_1.head()\n"
      ]
    },
    {
      "cell_type": "code",
      "execution_count": null,
      "id": "deeceb2c",
      "metadata": {
        "id": "deeceb2c"
      },
      "outputs": [],
      "source": [
        "#Utilize variables like date and restructure dates as 1 for 5 Feb 2010 (starting from the earliest date in order).\n",
        "#convert the date data type as datetime\n",
        " #to overcome settingwithcopywarning creaty an copy\n",
        "store_1c=store_1.copy()\n",
        "import datetime\n",
        "store_1c['Date']=[datetime.datetime.strptime(date, \"%d-%m-%Y\") for date in store_1c['Date']]#sort the dates in to order\n"
      ]
    },
    {
      "cell_type": "code",
      "execution_count": null,
      "id": "698f663e",
      "metadata": {
        "id": "698f663e"
      },
      "outputs": [],
      "source": [
        "store_1c['days'] = range(1, len(store_1c['Date']) + 1)#creating days representing date"
      ]
    },
    {
      "cell_type": "code",
      "execution_count": null,
      "id": "2e96d6d0",
      "metadata": {
        "id": "2e96d6d0",
        "outputId": "5d04a2dc-f9bc-4acb-805f-0d3ed0cb5adf"
      },
      "outputs": [
        {
          "data": {
            "text/html": [
              "<div>\n",
              "<style scoped>\n",
              "    .dataframe tbody tr th:only-of-type {\n",
              "        vertical-align: middle;\n",
              "    }\n",
              "\n",
              "    .dataframe tbody tr th {\n",
              "        vertical-align: top;\n",
              "    }\n",
              "\n",
              "    .dataframe thead th {\n",
              "        text-align: right;\n",
              "    }\n",
              "</style>\n",
              "<table border=\"1\" class=\"dataframe\">\n",
              "  <thead>\n",
              "    <tr style=\"text-align: right;\">\n",
              "      <th></th>\n",
              "      <th>Store</th>\n",
              "      <th>Date</th>\n",
              "      <th>Weekly_Sales</th>\n",
              "      <th>Holiday_Flag</th>\n",
              "      <th>Temperature</th>\n",
              "      <th>Fuel_Price</th>\n",
              "      <th>CPI</th>\n",
              "      <th>Unemployment</th>\n",
              "      <th>days</th>\n",
              "    </tr>\n",
              "  </thead>\n",
              "  <tbody>\n",
              "    <tr>\n",
              "      <th>0</th>\n",
              "      <td>1</td>\n",
              "      <td>2010-02-05</td>\n",
              "      <td>1643690.90</td>\n",
              "      <td>0</td>\n",
              "      <td>42.31</td>\n",
              "      <td>2.572</td>\n",
              "      <td>211.096358</td>\n",
              "      <td>8.106</td>\n",
              "      <td>1</td>\n",
              "    </tr>\n",
              "    <tr>\n",
              "      <th>1</th>\n",
              "      <td>1</td>\n",
              "      <td>2010-02-12</td>\n",
              "      <td>1641957.44</td>\n",
              "      <td>1</td>\n",
              "      <td>38.51</td>\n",
              "      <td>2.548</td>\n",
              "      <td>211.242170</td>\n",
              "      <td>8.106</td>\n",
              "      <td>2</td>\n",
              "    </tr>\n",
              "    <tr>\n",
              "      <th>2</th>\n",
              "      <td>1</td>\n",
              "      <td>2010-02-19</td>\n",
              "      <td>1611968.17</td>\n",
              "      <td>0</td>\n",
              "      <td>39.93</td>\n",
              "      <td>2.514</td>\n",
              "      <td>211.289143</td>\n",
              "      <td>8.106</td>\n",
              "      <td>3</td>\n",
              "    </tr>\n",
              "    <tr>\n",
              "      <th>3</th>\n",
              "      <td>1</td>\n",
              "      <td>2010-02-26</td>\n",
              "      <td>1409727.59</td>\n",
              "      <td>0</td>\n",
              "      <td>46.63</td>\n",
              "      <td>2.561</td>\n",
              "      <td>211.319643</td>\n",
              "      <td>8.106</td>\n",
              "      <td>4</td>\n",
              "    </tr>\n",
              "    <tr>\n",
              "      <th>4</th>\n",
              "      <td>1</td>\n",
              "      <td>2010-03-05</td>\n",
              "      <td>1554806.68</td>\n",
              "      <td>0</td>\n",
              "      <td>46.50</td>\n",
              "      <td>2.625</td>\n",
              "      <td>211.350143</td>\n",
              "      <td>8.106</td>\n",
              "      <td>5</td>\n",
              "    </tr>\n",
              "    <tr>\n",
              "      <th>...</th>\n",
              "      <td>...</td>\n",
              "      <td>...</td>\n",
              "      <td>...</td>\n",
              "      <td>...</td>\n",
              "      <td>...</td>\n",
              "      <td>...</td>\n",
              "      <td>...</td>\n",
              "      <td>...</td>\n",
              "      <td>...</td>\n",
              "    </tr>\n",
              "    <tr>\n",
              "      <th>138</th>\n",
              "      <td>1</td>\n",
              "      <td>2012-09-28</td>\n",
              "      <td>1437059.26</td>\n",
              "      <td>0</td>\n",
              "      <td>76.08</td>\n",
              "      <td>3.666</td>\n",
              "      <td>222.981658</td>\n",
              "      <td>6.908</td>\n",
              "      <td>139</td>\n",
              "    </tr>\n",
              "    <tr>\n",
              "      <th>139</th>\n",
              "      <td>1</td>\n",
              "      <td>2012-10-05</td>\n",
              "      <td>1670785.97</td>\n",
              "      <td>0</td>\n",
              "      <td>68.55</td>\n",
              "      <td>3.617</td>\n",
              "      <td>223.181477</td>\n",
              "      <td>6.573</td>\n",
              "      <td>140</td>\n",
              "    </tr>\n",
              "    <tr>\n",
              "      <th>140</th>\n",
              "      <td>1</td>\n",
              "      <td>2012-10-12</td>\n",
              "      <td>1573072.81</td>\n",
              "      <td>0</td>\n",
              "      <td>62.99</td>\n",
              "      <td>3.601</td>\n",
              "      <td>223.381296</td>\n",
              "      <td>6.573</td>\n",
              "      <td>141</td>\n",
              "    </tr>\n",
              "    <tr>\n",
              "      <th>141</th>\n",
              "      <td>1</td>\n",
              "      <td>2012-10-19</td>\n",
              "      <td>1508068.77</td>\n",
              "      <td>0</td>\n",
              "      <td>67.97</td>\n",
              "      <td>3.594</td>\n",
              "      <td>223.425723</td>\n",
              "      <td>6.573</td>\n",
              "      <td>142</td>\n",
              "    </tr>\n",
              "    <tr>\n",
              "      <th>142</th>\n",
              "      <td>1</td>\n",
              "      <td>2012-10-26</td>\n",
              "      <td>1493659.74</td>\n",
              "      <td>0</td>\n",
              "      <td>69.16</td>\n",
              "      <td>3.506</td>\n",
              "      <td>223.444251</td>\n",
              "      <td>6.573</td>\n",
              "      <td>143</td>\n",
              "    </tr>\n",
              "  </tbody>\n",
              "</table>\n",
              "<p>143 rows × 9 columns</p>\n",
              "</div>"
            ],
            "text/plain": [
              "     Store       Date  Weekly_Sales  Holiday_Flag  Temperature  Fuel_Price  \\\n",
              "0        1 2010-02-05    1643690.90             0        42.31       2.572   \n",
              "1        1 2010-02-12    1641957.44             1        38.51       2.548   \n",
              "2        1 2010-02-19    1611968.17             0        39.93       2.514   \n",
              "3        1 2010-02-26    1409727.59             0        46.63       2.561   \n",
              "4        1 2010-03-05    1554806.68             0        46.50       2.625   \n",
              "..     ...        ...           ...           ...          ...         ...   \n",
              "138      1 2012-09-28    1437059.26             0        76.08       3.666   \n",
              "139      1 2012-10-05    1670785.97             0        68.55       3.617   \n",
              "140      1 2012-10-12    1573072.81             0        62.99       3.601   \n",
              "141      1 2012-10-19    1508068.77             0        67.97       3.594   \n",
              "142      1 2012-10-26    1493659.74             0        69.16       3.506   \n",
              "\n",
              "            CPI  Unemployment  days  \n",
              "0    211.096358         8.106     1  \n",
              "1    211.242170         8.106     2  \n",
              "2    211.289143         8.106     3  \n",
              "3    211.319643         8.106     4  \n",
              "4    211.350143         8.106     5  \n",
              "..          ...           ...   ...  \n",
              "138  222.981658         6.908   139  \n",
              "139  223.181477         6.573   140  \n",
              "140  223.381296         6.573   141  \n",
              "141  223.425723         6.573   142  \n",
              "142  223.444251         6.573   143  \n",
              "\n",
              "[143 rows x 9 columns]"
            ]
          },
          "execution_count": 92,
          "metadata": {},
          "output_type": "execute_result"
        }
      ],
      "source": [
        "store_1c.head(143)"
      ]
    },
    {
      "cell_type": "code",
      "execution_count": null,
      "id": "401f02c4",
      "metadata": {
        "id": "401f02c4"
      },
      "outputs": [],
      "source": [
        "#after a lot of failed trailes i realised that linear regression wont work with timedate data types,lets convert or eliminate date column\n",
        "#so lets slice the data\n",
        " #Hypothesize if CPI, unemployment, and fuel price have any impact on sales.\n",
        "store_lr=store_1c.drop(['Store','Date'],axis=1)\n"
      ]
    },
    {
      "cell_type": "code",
      "execution_count": null,
      "id": "12311e30",
      "metadata": {
        "id": "12311e30"
      },
      "outputs": [],
      "source": [
        "store_lr=store_lr.reindex(['Holiday_Flag','Temperature','Fuel_Price','CPI','Unemployment','days','Weekly_Sales'],axis=1)"
      ]
    },
    {
      "cell_type": "code",
      "execution_count": null,
      "id": "b0eb2630",
      "metadata": {
        "id": "b0eb2630",
        "outputId": "1cab9e5f-5523-495b-d116-1d3b285230c1"
      },
      "outputs": [
        {
          "data": {
            "text/html": [
              "<div>\n",
              "<style scoped>\n",
              "    .dataframe tbody tr th:only-of-type {\n",
              "        vertical-align: middle;\n",
              "    }\n",
              "\n",
              "    .dataframe tbody tr th {\n",
              "        vertical-align: top;\n",
              "    }\n",
              "\n",
              "    .dataframe thead th {\n",
              "        text-align: right;\n",
              "    }\n",
              "</style>\n",
              "<table border=\"1\" class=\"dataframe\">\n",
              "  <thead>\n",
              "    <tr style=\"text-align: right;\">\n",
              "      <th></th>\n",
              "      <th>Holiday_Flag</th>\n",
              "      <th>Temperature</th>\n",
              "      <th>Fuel_Price</th>\n",
              "      <th>CPI</th>\n",
              "      <th>Unemployment</th>\n",
              "      <th>days</th>\n",
              "      <th>Weekly_Sales</th>\n",
              "    </tr>\n",
              "  </thead>\n",
              "  <tbody>\n",
              "    <tr>\n",
              "      <th>0</th>\n",
              "      <td>0</td>\n",
              "      <td>42.31</td>\n",
              "      <td>2.572</td>\n",
              "      <td>211.096358</td>\n",
              "      <td>8.106</td>\n",
              "      <td>1</td>\n",
              "      <td>1643690.90</td>\n",
              "    </tr>\n",
              "    <tr>\n",
              "      <th>1</th>\n",
              "      <td>1</td>\n",
              "      <td>38.51</td>\n",
              "      <td>2.548</td>\n",
              "      <td>211.242170</td>\n",
              "      <td>8.106</td>\n",
              "      <td>2</td>\n",
              "      <td>1641957.44</td>\n",
              "    </tr>\n",
              "    <tr>\n",
              "      <th>2</th>\n",
              "      <td>0</td>\n",
              "      <td>39.93</td>\n",
              "      <td>2.514</td>\n",
              "      <td>211.289143</td>\n",
              "      <td>8.106</td>\n",
              "      <td>3</td>\n",
              "      <td>1611968.17</td>\n",
              "    </tr>\n",
              "    <tr>\n",
              "      <th>3</th>\n",
              "      <td>0</td>\n",
              "      <td>46.63</td>\n",
              "      <td>2.561</td>\n",
              "      <td>211.319643</td>\n",
              "      <td>8.106</td>\n",
              "      <td>4</td>\n",
              "      <td>1409727.59</td>\n",
              "    </tr>\n",
              "    <tr>\n",
              "      <th>4</th>\n",
              "      <td>0</td>\n",
              "      <td>46.50</td>\n",
              "      <td>2.625</td>\n",
              "      <td>211.350143</td>\n",
              "      <td>8.106</td>\n",
              "      <td>5</td>\n",
              "      <td>1554806.68</td>\n",
              "    </tr>\n",
              "  </tbody>\n",
              "</table>\n",
              "</div>"
            ],
            "text/plain": [
              "   Holiday_Flag  Temperature  Fuel_Price         CPI  Unemployment  days  \\\n",
              "0             0        42.31       2.572  211.096358         8.106     1   \n",
              "1             1        38.51       2.548  211.242170         8.106     2   \n",
              "2             0        39.93       2.514  211.289143         8.106     3   \n",
              "3             0        46.63       2.561  211.319643         8.106     4   \n",
              "4             0        46.50       2.625  211.350143         8.106     5   \n",
              "\n",
              "   Weekly_Sales  \n",
              "0    1643690.90  \n",
              "1    1641957.44  \n",
              "2    1611968.17  \n",
              "3    1409727.59  \n",
              "4    1554806.68  "
            ]
          },
          "execution_count": 95,
          "metadata": {},
          "output_type": "execute_result"
        }
      ],
      "source": [
        "store_lr.head()"
      ]
    },
    {
      "cell_type": "code",
      "execution_count": null,
      "id": "90d32efd",
      "metadata": {
        "id": "90d32efd"
      },
      "outputs": [],
      "source": [
        "X=store_lr.iloc[:, :-1]\n",
        "y=store_lr.iloc[:,-1]"
      ]
    },
    {
      "cell_type": "code",
      "execution_count": null,
      "id": "f1e313b5",
      "metadata": {
        "id": "f1e313b5"
      },
      "outputs": [],
      "source": [
        "#split the data to test and train\n",
        "from sklearn.model_selection import train_test_split\n",
        "X_train, X_test, y_train, y_test = train_test_split(X, y, test_size=0.2, random_state=0)"
      ]
    },
    {
      "cell_type": "code",
      "execution_count": null,
      "id": "bb4d53f0",
      "metadata": {
        "id": "bb4d53f0"
      },
      "outputs": [],
      "source": [
        "#apply liner regression\n",
        "from sklearn.linear_model import LinearRegression\n",
        "from sklearn.linear_model import LinearRegression, LogisticRegression\n",
        "from sklearn.ensemble import RandomForestRegressor, RandomForestClassifier\n",
        "from sklearn.svm import SVR\n",
        "from sklearn.tree import DecisionTreeRegressor\n",
        "lr=LinearRegression()\n",
        "rf_model = RandomForestRegressor()\n",
        "logistic_model = LogisticRegression()\n",
        "svr_model = SVR()\n",
        "dt_regressor = DecisionTreeRegressor()"
      ]
    },
    {
      "cell_type": "code",
      "execution_count": null,
      "id": "1c3dc34a",
      "metadata": {
        "id": "1c3dc34a",
        "outputId": "f46bbf8d-c9d1-4598-e7fb-c016a26cac36"
      },
      "outputs": [
        {
          "data": {
            "text/plain": [
              "DecisionTreeRegressor()"
            ]
          },
          "execution_count": 99,
          "metadata": {},
          "output_type": "execute_result"
        }
      ],
      "source": [
        "lr.fit(X_train,y_train)\n",
        "rf_model.fit(X_train, y_train)\n",
        "svr_model.fit(X_train, y_train)\n",
        "dt_regressor.fit(X_train, y_train)"
      ]
    },
    {
      "cell_type": "code",
      "execution_count": null,
      "id": "e81c0224",
      "metadata": {
        "id": "e81c0224"
      },
      "outputs": [],
      "source": [
        "y_pred=lr.predict(X_test)\n",
        "rf_pred = rf_model.predict(X_test)\n",
        "y_pred_svr = svr_model.predict(X_test)\n",
        "y_pred_dt = dt_regressor.predict(X_test)"
      ]
    },
    {
      "cell_type": "code",
      "execution_count": null,
      "id": "25abf36a",
      "metadata": {
        "id": "25abf36a",
        "outputId": "31c16f58-d0fb-4388-f8ac-1a746d5912ff"
      },
      "outputs": [
        {
          "name": "stdout",
          "output_type": "stream",
          "text": [
            "Mean Squared Error of linear regression: 21781646253.036354\n",
            "R-squared of linear regression: 0.14586388105553416\n",
            "Mean Squared Error of random forest: 14175976763.41711\n",
            "R-squared of random forest: 0.4441093370863032\n",
            "Mean Squared Error of svr: 31855718855.220657\n",
            "R-squared of svr: -0.24917647422500355\n",
            "Mean Squared Error of decission tree: 32969516922.06415\n",
            "R-squared of decission tree: -0.29285247313940754\n"
          ]
        }
      ],
      "source": [
        "from sklearn.metrics import mean_squared_error, r2_score\n",
        "\n",
        "lr_mse = mean_squared_error(y_test, y_pred)\n",
        "lr_r2 = r2_score(y_test, y_pred)\n",
        "rf_mse = mean_squared_error(y_test, rf_pred)\n",
        "rf_r2 = r2_score(y_test, rf_pred)\n",
        "svr_mse=mean_squared_error(y_test, y_pred_svr)\n",
        "svr_r2= r2_score(y_test,  y_pred_svr)\n",
        "dt_mse=mean_squared_error(y_test, y_pred_dt)\n",
        "dt_r2= r2_score(y_test, y_pred_dt)\n",
        "\n",
        "print(\"Mean Squared Error of linear regression:\",lr_mse)\n",
        "print(\"R-squared of linear regression:\",lr_r2)\n",
        "print(\"Mean Squared Error of random forest:\",rf_mse)\n",
        "print(\"R-squared of random forest:\",rf_r2)\n",
        "print(\"Mean Squared Error of svr:\",svr_mse)\n",
        "print(\"R-squared of svr:\",svr_r2)\n",
        "print(\"Mean Squared Error of decission tree:\",dt_mse)\n",
        "print(\"R-squared of decission tree:\",dt_r2)"
      ]
    },
    {
      "cell_type": "markdown",
      "id": "79d7b59e",
      "metadata": {
        "id": "79d7b59e"
      },
      "source": [
        " from the above results we can say that linear regression is not best fit to my data, and its predictions are worse"
      ]
    },
    {
      "cell_type": "code",
      "execution_count": null,
      "id": "67cae864",
      "metadata": {
        "id": "67cae864",
        "outputId": "aa6349c6-70af-46f8-d603-b3a58105c420"
      },
      "outputs": [
        {
          "data": {
            "image/png": "[encoded data removed]",
            "text/plain": [
              "<Figure size 864x432 with 3 Axes>"
            ]
          },
          "metadata": {
            "needs_background": "light"
          },
          "output_type": "display_data"
        }
      ],
      "source": [
        "# Hypothesize if CPI, unemployment, and fuel price have any impact on sales.\n",
        "# Visualize relationships\n",
        "plt.figure(figsize=(12, 6))\n",
        "\n",
        "# Scatter plot - Sales vs. CPI\n",
        "plt.subplot(2, 2, 1)\n",
        "plt.scatter(store_lr['Weekly_Sales'], store_lr['CPI'])\n",
        "plt.xlabel('Weekly_Sales')\n",
        "plt.ylabel('CPI')\n",
        "plt.title('Sales vs. CPI')\n",
        "# Scatter plot - Sales vs. Unemployment\n",
        "plt.subplot(2, 2, 2)\n",
        "plt.scatter(store_lr['Weekly_Sales'], store_lr['Unemployment'])\n",
        "plt.xlabel('Sales')\n",
        "plt.ylabel('Unemployment Rate')\n",
        "plt.title('Sales vs. Unemployment')\n",
        "# Scatter plot - Sales vs. Fuel Price\n",
        "plt.subplot(2, 2, 3)\n",
        "plt.scatter(store_lr['Weekly_Sales'], store_lr['Fuel_Price'])\n",
        "plt.xlabel('Sales')\n",
        "plt.ylabel('Fuel Price')\n",
        "plt.title('Sales vs. Fuel Price')\n",
        "plt.tight_layout()\n",
        "plt.show()\n"
      ]
    },
    {
      "cell_type": "code",
      "execution_count": null,
      "id": "67c1abfb",
      "metadata": {
        "id": "67c1abfb",
        "outputId": "5f2874b5-7aa8-4065-f279-66830ad5283f"
      },
      "outputs": [
        {
          "name": "stdout",
          "output_type": "stream",
          "text": [
            "              Weekly_Sales       CPI  Unemployment  Fuel_Price\n",
            "Weekly_Sales      1.000000  0.225408     -0.097955    0.124592\n",
            "CPI               0.225408  1.000000     -0.813471    0.755259\n",
            "Unemployment     -0.097955 -0.813471      1.000000   -0.513944\n",
            "Fuel_Price        0.124592  0.755259     -0.513944    1.000000\n"
          ]
        }
      ],
      "source": [
        "# Calculate correlation coefficients\n",
        "correlations = store_lr[['Weekly_Sales', 'CPI', 'Unemployment', 'Fuel_Price']].corr()\n",
        "print(correlations)\n"
      ]
    },
    {
      "cell_type": "code",
      "execution_count": null,
      "id": "9f531a88",
      "metadata": {
        "id": "9f531a88",
        "outputId": "1131b2d4-8b55-4988-ee16-3b6e504e866a"
      },
      "outputs": [
        {
          "data": {
            "image/png": "[encoded data removed]",
            "text/plain": [
              "<Figure size 432x288 with 2 Axes>"
            ]
          },
          "metadata": {
            "needs_background": "light"
          },
          "output_type": "display_data"
        }
      ],
      "source": [
        "sns.heatmap(correlations,center=True)\n",
        "plt.show()"
      ]
    },
    {
      "cell_type": "markdown",
      "id": "485999ae",
      "metadata": {
        "id": "485999ae"
      },
      "source": [
        "\n",
        "R-squared of random forest: 0.34244905368884626\n",
        "Mean Squared Error of svr: 31855718855.220657\n",
        "Mean Squared Error of decission tree: 37006672831.61966\n",
        "R-squared of decission tree: -0.4511637706466276\n",
        "\n",
        " according to above results random forest is the best fit for my model\n",
        " as it produces best results\n"
      ]
    },
    {
      "cell_type": "raw",
      "id": "2f5a66a4",
      "metadata": {
        "id": "2f5a66a4"
      },
      "source": [
        "-------------------------End Of The Project-------------------------"
      ]
    },
    {
      "cell_type": "markdown",
      "id": "9003073b",
      "metadata": {
        "id": "9003073b"
      },
      "source": [
        "# our project(retail analasys with wallmart data)  has been done as per requirements\n",
        "## we break downed each task in to sub tasks when needed, and\n",
        "## tasks are done step by step for better understanding\n",
        "# thank you for your interest"
      ]
    }
  ],
  "metadata": {
    "kernelspec": {
      "display_name": "Python 3 (ipykernel)",
      "language": "python",
      "name": "python3"
    },
    "language_info": {
      "codemirror_mode": {
        "name": "ipython",
        "version": 3
      },
      "file_extension": ".py",
      "mimetype": "text/x-python",
      "name": "python",
      "nbconvert_exporter": "python",
      "pygments_lexer": "ipython3",
      "version": "3.9.7"
    },
    "colab": {
      "provenance": [],
      "include_colab_link": true
    }
  },
  "nbformat": 4,
  "nbformat_minor": 5
}